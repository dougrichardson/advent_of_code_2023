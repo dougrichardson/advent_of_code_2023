{
 "cells": [
  {
   "cell_type": "code",
   "execution_count": 7,
   "id": "bcf5209b-f663-4c73-8164-0457bc7048ef",
   "metadata": {},
   "outputs": [],
   "source": [
    "filename = 'input_day01.txt'"
   ]
  },
  {
   "cell_type": "code",
   "execution_count": 8,
   "id": "e3d9c49b-4bab-48bf-be9a-bda270a91e49",
   "metadata": {},
   "outputs": [],
   "source": [
    "with open(filename) as f:\n",
    "    lines = f.read().splitlines() "
   ]
  },
  {
   "cell_type": "code",
   "execution_count": 45,
   "id": "0ef4e6bc-ae20-452c-b689-72d204f04eea",
   "metadata": {},
   "outputs": [],
   "source": [
    "values = []\n",
    "for l in lines:\n",
    "    numbers = [int(s) for s in l if s.isdigit()]\n",
    "    if len(numbers) > 1:\n",
    "        values.append(int(str(numbers[0]) + str(numbers[-1])))\n",
    "    else:\n",
    "        values.append(int(str(numbers[0]) * 2))"
   ]
  },
  {
   "cell_type": "code",
   "execution_count": 46,
   "id": "056f434a-2eeb-4a50-b096-17817a171e2b",
   "metadata": {},
   "outputs": [
    {
     "data": {
      "text/plain": [
       "['heightseven4two5',\n",
       " 'npskfdstpk2knsm',\n",
       " 'djnrmpxjbsbpgzvtjkhq6pkkfshx',\n",
       " 'kgsddxsevensevenlcmkdlcgtfbqxmlnkhbnvhshkckppn2',\n",
       " '8blvspztqjnine854fivefour',\n",
       " 'ninesixthree8six8',\n",
       " '5tnzrrzmcsnfivefeightrjninexrhnnfbcb',\n",
       " 'dcjcj2',\n",
       " '4fhcmhdtfourlzdphfxvlmvm6',\n",
       " 'eighth33twobfr']"
      ]
     },
     "execution_count": 46,
     "metadata": {},
     "output_type": "execute_result"
    }
   ],
   "source": [
    "lines[:10]"
   ]
  },
  {
   "cell_type": "code",
   "execution_count": 47,
   "id": "961e3031-148f-4b9a-8b73-f3a16f6f0159",
   "metadata": {},
   "outputs": [
    {
     "data": {
      "text/plain": [
       "[45, 22, 66, 22, 84, 88, 55, 22, 46, 33]"
      ]
     },
     "execution_count": 47,
     "metadata": {},
     "output_type": "execute_result"
    }
   ],
   "source": [
    "values[:10]"
   ]
  },
  {
   "cell_type": "code",
   "execution_count": 48,
   "id": "2b835fb2-8cbc-4aec-9bc7-1e17c42b598e",
   "metadata": {},
   "outputs": [
    {
     "data": {
      "text/plain": [
       "56049"
      ]
     },
     "execution_count": 48,
     "metadata": {},
     "output_type": "execute_result"
    }
   ],
   "source": [
    "sum(values)"
   ]
  },
  {
   "cell_type": "markdown",
   "id": "a6f5ed0a-4912-4dd4-ad16-025e72ee0876",
   "metadata": {},
   "source": [
    "Part 2"
   ]
  },
  {
   "cell_type": "code",
   "execution_count": 49,
   "id": "060191c6-7563-402e-84f5-ab797d2935ad",
   "metadata": {},
   "outputs": [],
   "source": [
    "l = lines[0]"
   ]
  },
  {
   "cell_type": "code",
   "execution_count": 50,
   "id": "7873629d-b7ca-4347-bdcd-8243426c0cf8",
   "metadata": {},
   "outputs": [
    {
     "data": {
      "text/plain": [
       "'heightseven4two5'"
      ]
     },
     "execution_count": 50,
     "metadata": {},
     "output_type": "execute_result"
    }
   ],
   "source": [
    "l"
   ]
  },
  {
   "cell_type": "code",
   "execution_count": 61,
   "id": "3fca9945-0cc5-42c3-a9b9-c77ed78eff99",
   "metadata": {},
   "outputs": [],
   "source": [
    "new_lines = []\n",
    "for l in lines:\n",
    "    new_l = l.replace(\"one\", \"1\")\n",
    "    new_l = new_l.replace(\"two\", \"2\")\n",
    "    new_l = new_l.replace(\"three\", \"3\")\n",
    "    new_l = new_l.replace(\"four\", \"4\")\n",
    "    new_l = new_l.replace(\"five\", \"5\")\n",
    "    new_l = new_l.replace(\"six\", \"6\")\n",
    "    new_l = new_l.replace(\"seven\", \"7\")\n",
    "    new_l = new_l.replace(\"eight\", \"8\")\n",
    "    new_l = new_l.replace(\"nine\", \"9\")\n",
    "    new_lines.append(new_l)"
   ]
  },
  {
   "cell_type": "code",
   "execution_count": 64,
   "id": "18e9a1c7-d60b-4084-9559-8e4c178be318",
   "metadata": {},
   "outputs": [],
   "source": [
    "new_values = []\n",
    "for l in new_lines:\n",
    "    numbers = [int(s) for s in l if s.isdigit()]\n",
    "    if len(numbers) > 1:\n",
    "        new_values.append(int(str(numbers[0]) + str(numbers[-1])))\n",
    "    else:\n",
    "        new_values.append(int(str(numbers[0]) * 2))"
   ]
  },
  {
   "cell_type": "code",
   "execution_count": 74,
   "id": "ce7cf8ce-c86e-4945-a170-9cea5ebbffde",
   "metadata": {},
   "outputs": [
    {
     "data": {
      "text/plain": [
       "'ninesixthree8six8'"
      ]
     },
     "execution_count": 74,
     "metadata": {},
     "output_type": "execute_result"
    }
   ],
   "source": [
    "i = 5\n",
    "lines[i]"
   ]
  },
  {
   "cell_type": "code",
   "execution_count": 75,
   "id": "16c1cc9b-554a-4ef8-ba6a-1fe138d3982b",
   "metadata": {},
   "outputs": [
    {
     "data": {
      "text/plain": [
       "'963868'"
      ]
     },
     "execution_count": 75,
     "metadata": {},
     "output_type": "execute_result"
    }
   ],
   "source": [
    "new_lines[i]"
   ]
  },
  {
   "cell_type": "code",
   "execution_count": 76,
   "id": "3cf87655-65c3-4240-926c-4349535d58e5",
   "metadata": {},
   "outputs": [
    {
     "data": {
      "text/plain": [
       "98"
      ]
     },
     "execution_count": 76,
     "metadata": {},
     "output_type": "execute_result"
    }
   ],
   "source": [
    "new_values[i]"
   ]
  },
  {
   "cell_type": "code",
   "execution_count": 66,
   "id": "d6d49936-4258-4895-88b4-9fb239859abb",
   "metadata": {},
   "outputs": [
    {
     "data": {
      "text/plain": [
       "53951"
      ]
     },
     "execution_count": 66,
     "metadata": {},
     "output_type": "execute_result"
    }
   ],
   "source": [
    "sum(new_values)"
   ]
  },
  {
   "cell_type": "code",
   "execution_count": 55,
   "id": "7e93984e-0fa4-4ea9-a02a-ab0c60192fb8",
   "metadata": {},
   "outputs": [],
   "source": [
    "l2 = l.replace(\"seven\", \"7\")"
   ]
  },
  {
   "cell_type": "code",
   "execution_count": 57,
   "id": "641f85d9-b03e-433e-b34d-e77f14dfaebc",
   "metadata": {},
   "outputs": [
    {
     "data": {
      "text/plain": [
       "'height74two5'"
      ]
     },
     "execution_count": 57,
     "metadata": {},
     "output_type": "execute_result"
    }
   ],
   "source": [
    "l2"
   ]
  },
  {
   "cell_type": "code",
   "execution_count": 79,
   "id": "d91c4b74-c9f5-4a45-9624-ddd3a6c47899",
   "metadata": {},
   "outputs": [],
   "source": [
    "x = \"twone3\""
   ]
  },
  {
   "cell_type": "code",
   "execution_count": null,
   "id": "53770d89-b68d-4969-81bc-5d8ba8d96bb9",
   "metadata": {},
   "outputs": [],
   "source": []
  }
 ],
 "metadata": {
  "kernelspec": {
   "display_name": "Python 3 (ipykernel)",
   "language": "python",
   "name": "python3"
  },
  "language_info": {
   "codemirror_mode": {
    "name": "ipython",
    "version": 3
   },
   "file_extension": ".py",
   "mimetype": "text/x-python",
   "name": "python",
   "nbconvert_exporter": "python",
   "pygments_lexer": "ipython3",
   "version": "3.12.0"
  }
 },
 "nbformat": 4,
 "nbformat_minor": 5
}
